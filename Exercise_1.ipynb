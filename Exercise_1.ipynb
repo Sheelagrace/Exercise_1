{
 "cells": [
  {
   "cell_type": "code",
   "execution_count": 1,
   "id": "82c4f441",
   "metadata": {},
   "outputs": [],
   "source": [
    "### 1 Declare a variable name and assign your name to it.\n",
    "### 2 Print the value of the above variable\n",
    "### 3 Declare two variabless num1 and num2 and assign integers\n",
    "### 4 perform addition, subtraction, multiplication, division, modulus , floor division and power print the results\n"
   ]
  },
  {
   "cell_type": "code",
   "execution_count": 2,
   "id": "55e02858",
   "metadata": {},
   "outputs": [
    {
     "data": {
      "text/plain": [
       "'Sheela'"
      ]
     },
     "execution_count": 2,
     "metadata": {},
     "output_type": "execute_result"
    }
   ],
   "source": [
    "first_name=\"Sheela\"\n",
    "first_name"
   ]
  },
  {
   "cell_type": "code",
   "execution_count": 16,
   "id": "a1c198cd",
   "metadata": {},
   "outputs": [
    {
     "name": "stdout",
     "output_type": "stream",
     "text": [
      "Sheela\n"
     ]
    }
   ],
   "source": [
    "print(\"Sheela\")"
   ]
  },
  {
   "cell_type": "code",
   "execution_count": 3,
   "id": "dd19c706",
   "metadata": {},
   "outputs": [],
   "source": [
    "num1=10\n",
    "num2=5"
   ]
  },
  {
   "cell_type": "code",
   "execution_count": 4,
   "id": "a1e6dcb0",
   "metadata": {},
   "outputs": [
    {
     "name": "stdout",
     "output_type": "stream",
     "text": [
      "15\n"
     ]
    }
   ],
   "source": [
    "num1=10\n",
    "num2=5\n",
    "print(num1+num2)"
   ]
  },
  {
   "cell_type": "code",
   "execution_count": 5,
   "id": "5e4d8986",
   "metadata": {},
   "outputs": [
    {
     "name": "stdout",
     "output_type": "stream",
     "text": [
      "5\n"
     ]
    }
   ],
   "source": [
    "num1=10\n",
    "num2=5\n",
    "print(num1-num2)"
   ]
  },
  {
   "cell_type": "code",
   "execution_count": 6,
   "id": "8dd3be2f",
   "metadata": {},
   "outputs": [
    {
     "name": "stdout",
     "output_type": "stream",
     "text": [
      "50\n"
     ]
    }
   ],
   "source": [
    "num1=10\n",
    "num2=5\n",
    "print(num1*num2)"
   ]
  },
  {
   "cell_type": "code",
   "execution_count": 7,
   "id": "db4e8ae5",
   "metadata": {},
   "outputs": [
    {
     "name": "stdout",
     "output_type": "stream",
     "text": [
      "2.0\n"
     ]
    }
   ],
   "source": [
    "num1=10\n",
    "num2=5\n",
    "print(num1/num2)"
   ]
  },
  {
   "cell_type": "code",
   "execution_count": 8,
   "id": "f055445f",
   "metadata": {},
   "outputs": [
    {
     "name": "stdout",
     "output_type": "stream",
     "text": [
      "0\n"
     ]
    }
   ],
   "source": [
    "num1=10\n",
    "num2=5\n",
    "print(num1%num2)"
   ]
  },
  {
   "cell_type": "code",
   "execution_count": 9,
   "id": "90c9da2a",
   "metadata": {},
   "outputs": [
    {
     "name": "stdout",
     "output_type": "stream",
     "text": [
      "2\n"
     ]
    }
   ],
   "source": [
    "num1=10\n",
    "num2=5\n",
    "print(num1//num2)"
   ]
  },
  {
   "cell_type": "code",
   "execution_count": 10,
   "id": "3c33eee5",
   "metadata": {},
   "outputs": [
    {
     "name": "stdout",
     "output_type": "stream",
     "text": [
      "100000\n"
     ]
    }
   ],
   "source": [
    "num1=10\n",
    "num2=5\n",
    "print(num1**num2)"
   ]
  },
  {
   "cell_type": "code",
   "execution_count": 11,
   "id": "9384b209",
   "metadata": {},
   "outputs": [
    {
     "name": "stdout",
     "output_type": "stream",
     "text": [
      "True\n"
     ]
    }
   ],
   "source": [
    "age = 25\n",
    "income = 50000\n",
    "eligible_for_loan = (age >= 18) and (income > 30000)\n",
    "print(eligible_for_loan)"
   ]
  },
  {
   "cell_type": "code",
   "execution_count": 13,
   "id": "97b7dfa1",
   "metadata": {},
   "outputs": [
    {
     "name": "stdout",
     "output_type": "stream",
     "text": [
      "True\n"
     ]
    }
   ],
   "source": [
    "temperature = 25\n",
    "is_summer = True\n",
    "outdoor_activity = (temperature > 20) and (is_summer or(temperature < 30))\n",
    "print(outdoor_activity)"
   ]
  },
  {
   "cell_type": "code",
   "execution_count": 14,
   "id": "85f8ceb9",
   "metadata": {},
   "outputs": [
    {
     "name": "stdout",
     "output_type": "stream",
     "text": [
      "True\n"
     ]
    }
   ],
   "source": [
    "has_license = False\n",
    "no_license = not has_license\n",
    "print(no_license)"
   ]
  },
  {
   "cell_type": "code",
   "execution_count": 15,
   "id": "e7bc5938",
   "metadata": {},
   "outputs": [
    {
     "name": "stdout",
     "output_type": "stream",
     "text": [
      "True\n"
     ]
    }
   ],
   "source": [
    "is_student = True\n",
    "is_employed = False\n",
    "can_vote = is_student or is_employed\n",
    "print(can_vote)"
   ]
  },
  {
   "cell_type": "code",
   "execution_count": null,
   "id": "bf5b2a60",
   "metadata": {},
   "outputs": [],
   "source": []
  }
 ],
 "metadata": {
  "kernelspec": {
   "display_name": "Python 3 (ipykernel)",
   "language": "python",
   "name": "python3"
  },
  "language_info": {
   "codemirror_mode": {
    "name": "ipython",
    "version": 3
   },
   "file_extension": ".py",
   "mimetype": "text/x-python",
   "name": "python",
   "nbconvert_exporter": "python",
   "pygments_lexer": "ipython3",
   "version": "3.11.5"
  }
 },
 "nbformat": 4,
 "nbformat_minor": 5
}
